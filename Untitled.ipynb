{
 "cells": [
  {
   "cell_type": "markdown",
   "id": "6c27ba5e-54bc-42cd-9680-638f2997a63f",
   "metadata": {},
   "source": [
    "Importing the Dependencies"
   ]
  },
  {
   "cell_type": "code",
   "execution_count": null,
   "id": "202e7720-1879-4266-96cf-37019039d2a9",
   "metadata": {},
   "outputs": [],
   "source": [
    "import numpy as np\n",
    "import pandas as pd\n",
    "import seaborn as sns\n",
    "from sklearn.preprocessing import StandardScaler\n",
    "from sklearn.model_selection import train_test_split\n",
    "from sklearn import svm\n",
    "from sklearn.metrics import accuracy_score"
   ]
  },
  {
   "cell_type": "markdown",
   "id": "a6875128-29c8-410f-bda3-2dd5bbf972f7",
   "metadata": {},
   "source": [
    "Data Collection and Analysis\n",
    "\n",
    "PIMA Diabetes Dataset"
   ]
  },
  {
   "cell_type": "code",
   "execution_count": null,
   "id": "96780f1a-b824-4ba2-9717-4ed7a0e92152",
   "metadata": {},
   "outputs": [],
   "source": [
    "# loading the diabetes dataset to a pandas DataFrame\n",
    "df = pd.read_csv('diabetes.csv') "
   ]
  },
  {
   "cell_type": "code",
   "execution_count": null,
   "id": "43275498-47c5-4d59-8c79-2b5226db47e8",
   "metadata": {},
   "outputs": [],
   "source": [
    "df.head()"
   ]
  },
  {
   "cell_type": "code",
   "execution_count": null,
   "id": "1dd8a938-e978-489c-956f-c1de3b79c04c",
   "metadata": {},
   "outputs": [],
   "source": [
    "df.isnull().sum()"
   ]
  },
  {
   "cell_type": "code",
   "execution_count": null,
   "id": "62c5ce1c-8261-4d33-98a5-b4acc0a34a1a",
   "metadata": {},
   "outputs": [],
   "source": [
    "df.shape"
   ]
  },
  {
   "cell_type": "code",
   "execution_count": null,
   "id": "3c25ae21-eab8-43c9-8bf5-60584acc05cc",
   "metadata": {},
   "outputs": [],
   "source": [
    "df.describe()"
   ]
  },
  {
   "cell_type": "code",
   "execution_count": null,
   "id": "0a4fd529-fd8d-4f34-99c0-5cfd37d6e13e",
   "metadata": {},
   "outputs": [],
   "source": [
    "df[\"Pregnancies\"].value_counts()"
   ]
  },
  {
   "cell_type": "code",
   "execution_count": null,
   "id": "f29c7935-9caa-4d09-a3ed-cd2c89feb701",
   "metadata": {},
   "outputs": [],
   "source": [
    "df['Outcome'].value_counts()"
   ]
  },
  {
   "cell_type": "markdown",
   "id": "32902149-d632-4d44-aeb5-a912bc4beec4",
   "metadata": {},
   "source": [
    "o0 --> Non-Diabetic\n",
    "\n",
    "1 --> Diabetic"
   ]
  },
  {
   "cell_type": "code",
   "execution_count": null,
   "id": "8f180cba-149d-4117-a79f-a5b478ae521c",
   "metadata": {},
   "outputs": [],
   "source": [
    "df.groupby('Outcome').mean()"
   ]
  },
  {
   "cell_type": "code",
   "execution_count": null,
   "id": "e5698bb0-6e8b-40d5-a355-bdfdea3e8d74",
   "metadata": {},
   "outputs": [],
   "source": [
    "# separating the data and labels\n",
    "X = df.drop(columns = 'Outcome', axis=1)\n",
    "Y = df['Outcome']"
   ]
  },
  {
   "cell_type": "code",
   "execution_count": null,
   "id": "25a8841f-cafc-4b9b-87e3-14bfefc00379",
   "metadata": {},
   "outputs": [],
   "source": [
    "import seaborn as sns\n",
    "import matplotlib.pyplot as plt\n",
    "\n",
    "sns.countplot(x='Outcome', data=df)\n",
    "plt.title('Count of Diabetic vs Non-Diabetic')\n",
    "plt.show()\n"
   ]
  },
  {
   "cell_type": "code",
   "execution_count": null,
   "id": "9cc8f83e-e18a-4015-8795-9090bcf27cf9",
   "metadata": {},
   "outputs": [],
   "source": [
    "plt.hist(df['Age'], bins=10, color='skyblue')\n",
    "plt.title('Distribution of Age')\n",
    "plt.xlabel('Age')\n",
    "plt.ylabel('Count')\n",
    "plt.show()\n"
   ]
  },
  {
   "cell_type": "code",
   "execution_count": null,
   "id": "3ab2549e-b0a4-48bf-87bf-dda5b5cdd396",
   "metadata": {},
   "outputs": [],
   "source": [
    "sns.boxplot(x='Outcome', y='Glucose', data=df)\n",
    "plt.title('Glucose Level vs Outcome')\n",
    "plt.show()\n"
   ]
  },
  {
   "cell_type": "code",
   "execution_count": null,
   "id": "d210a80e-2fb2-4909-975e-dabe3ce982e8",
   "metadata": {},
   "outputs": [],
   "source": [
    "plt.figure(figsize=(10,6))\n",
    "sns.heatmap(df.corr(), annot=True, cmap='coolwarm')\n",
    "plt.title('Correlation Heatmap')\n",
    "plt.show()\n"
   ]
  },
  {
   "cell_type": "code",
   "execution_count": null,
   "id": "75f66ed8-d196-4c1c-a581-dfe7df6e13d3",
   "metadata": {},
   "outputs": [],
   "source": [
    "sns.pairplot(df, vars=['Glucose','BMI','Age','Insulin'], hue='Outcome')\n",
    "plt.show()\n"
   ]
  },
  {
   "cell_type": "code",
   "execution_count": null,
   "id": "6937ecbe-2129-44ff-95c8-4db676c7b600",
   "metadata": {},
   "outputs": [],
   "source": [
    "sns.histplot(df['Pregnancies'], bins=15, kde=True, color='orange')\n",
    "plt.title('Distribution of Pregnancies')\n",
    "plt.xlabel('Number of Pregnancies')\n",
    "plt.show()\n"
   ]
  },
  {
   "cell_type": "code",
   "execution_count": null,
   "id": "411284b6-3cd5-4bf6-b5d3-ca4e16ac9e14",
   "metadata": {},
   "outputs": [],
   "source": [
    "sns.scatterplot(x='Age', y='BMI', hue='Outcome', data=df)\n",
    "plt.title('BMI vs Age colored by Outcome')\n",
    "plt.show()\n"
   ]
  },
  {
   "cell_type": "code",
   "execution_count": null,
   "id": "7f8ee880-fe11-405f-9243-de4407b75611",
   "metadata": {},
   "outputs": [],
   "source": [
    "# Correlation with target\n",
    "corr = df.corr()\n",
    "plt.figure(figsize=(8,5))\n",
    "sns.heatmap(corr[['Outcome']].sort_values(by='Outcome', ascending=False), annot=True, cmap='coolwarm')\n",
    "plt.title('Feature Correlation with Outcome')\n",
    "plt.show()"
   ]
  },
  {
   "cell_type": "markdown",
   "id": "17b20c91-f5ec-407b-960f-9227b90c82e8",
   "metadata": {},
   "source": [
    "Data Standardization"
   ]
  },
  {
   "cell_type": "code",
   "execution_count": null,
   "id": "98a070ce-8594-40f8-831f-28a1dd05e565",
   "metadata": {},
   "outputs": [],
   "source": [
    "scaler=StandardScaler()"
   ]
  },
  {
   "cell_type": "code",
   "execution_count": null,
   "id": "790d07f6-515c-4b4f-9949-83444f050e37",
   "metadata": {},
   "outputs": [],
   "source": [
    "scaled_data=scaler.fit_transform(X)"
   ]
  },
  {
   "cell_type": "code",
   "execution_count": null,
   "id": "9aa4ced9-2636-4cb8-a7c1-19d16d05cbb9",
   "metadata": {},
   "outputs": [],
   "source": [
    "print(scaled_data)"
   ]
  },
  {
   "cell_type": "code",
   "execution_count": null,
   "id": "543eed6a-3ce2-4989-ba31-67dcc946aaae",
   "metadata": {},
   "outputs": [],
   "source": [
    "X=scaled_data"
   ]
  },
  {
   "cell_type": "code",
   "execution_count": null,
   "id": "ddc488fc-6ef1-4906-a54a-b95f4ed3b751",
   "metadata": {},
   "outputs": [],
   "source": [
    "print(X)\n",
    "print(Y)"
   ]
  },
  {
   "cell_type": "markdown",
   "id": "950ab863-6e4f-42e4-8b56-3ac033408b33",
   "metadata": {},
   "source": [
    "Train Test Split"
   ]
  },
  {
   "cell_type": "code",
   "execution_count": null,
   "id": "a2bc881e-4358-49c6-b2cf-98b1d3a9827c",
   "metadata": {},
   "outputs": [],
   "source": [
    "X_train, X_test, Y_train, Y_test = train_test_split(X,Y, test_size = 0.2, stratify=Y, random_state=2)"
   ]
  },
  {
   "cell_type": "code",
   "execution_count": null,
   "id": "fc74187e-ebad-49de-8358-798bb637dcd6",
   "metadata": {},
   "outputs": [],
   "source": [
    "print(X.shape, X_train.shape, X_test.shape)"
   ]
  },
  {
   "cell_type": "code",
   "execution_count": null,
   "id": "90c38ad0-75e0-4b0d-8af9-d7f909c05d31",
   "metadata": {},
   "outputs": [],
   "source": []
  },
  {
   "cell_type": "markdown",
   "id": "a04eabc4-18ad-41ec-8741-92ec60c9036d",
   "metadata": {},
   "source": [
    "*Training* the Model"
   ]
  },
  {
   "cell_type": "code",
   "execution_count": null,
   "id": "9bd85cd9-ffee-4d93-a16c-bff8a1eeb140",
   "metadata": {},
   "outputs": [],
   "source": [
    "import pandas as pd\n",
    "from sklearn.model_selection import train_test_split, GridSearchCV\n",
    "from sklearn.metrics import accuracy_score\n",
    "from sklearn.ensemble import RandomForestClassifier\n",
    "from sklearn.svm import SVC\n",
    "from sklearn.linear_model import LogisticRegression"
   ]
  },
  {
   "cell_type": "code",
   "execution_count": null,
   "id": "771e6506-3f66-4535-9876-46f265b6a12e",
   "metadata": {},
   "outputs": [],
   "source": [
    "from catboost import CatBoostClassifier"
   ]
  },
  {
   "cell_type": "code",
   "execution_count": null,
   "id": "163a976e-c49f-4063-ade7-5b87c0ec4e95",
   "metadata": {},
   "outputs": [],
   "source": [
    "# Random Forest\n",
    "rf = RandomForestClassifier()\n",
    "rf_params = {\n",
    "    'n_estimators': [50, 100, 200],\n",
    "    'max_depth': [None, 5, 10],\n",
    "    'min_samples_split': [2, 5, 10]\n",
    "}\n",
    "\n",
    "# SVM with RBF Kernel\n",
    "svm = SVC(probability=True)   # <- Important!\n",
    "svm_params = {\n",
    "    'C': [0.1, 1, 10],\n",
    "    'gamma': ['scale','auto'],\n",
    "    'kernel': ['rbf', 'poly', 'linear']\n",
    "}\n",
    "\n",
    "# Logistic Regression\n",
    "lr = LogisticRegression(max_iter=1000)\n",
    "lr_params = {\n",
    "    'C': [0.1, 1, 10],\n",
    "    'penalty': ['l2'],\n",
    "    'solver': ['lbfgs']\n",
    "}\n",
    "# CatBoost\n",
    "cat_model = CatBoostClassifier(\n",
    "    iterations=500,      \n",
    "    learning_rate=0.1, \n",
    "    depth=6,           \n",
    "    verbose=100,        \n",
    "    random_seed=42\n",
    ")\n",
    "\n"
   ]
  },
  {
   "cell_type": "code",
   "execution_count": null,
   "id": "c5c0ba1d-acd2-471c-a3eb-e55e14f1092a",
   "metadata": {},
   "outputs": [],
   "source": [
    "# Example for Random Forest\n",
    "grid_rf = GridSearchCV(rf, rf_params, cv=5, scoring='accuracy')\n",
    "grid_rf.fit(X_train, Y_train)\n",
    "\n",
    "print(\"Best RF Parameters:\", grid_rf.best_params_)\n",
    "print(\"Best RF Accuracy (CV):\", grid_rf.best_score_)\n",
    "\n",
    "# Predict on test data\n",
    "y_pred_rf = grid_rf.predict(X_test)\n",
    "print(\"Test Accuracy:\", accuracy_score(Y_test, y_pred_rf))\n"
   ]
  },
  {
   "cell_type": "code",
   "execution_count": null,
   "id": "35150340-bd70-49c2-8b86-d654f795bbfd",
   "metadata": {},
   "outputs": [],
   "source": [
    "# SVM\n",
    "grid_svm = GridSearchCV(svm, svm_params, cv=5, scoring='accuracy')\n",
    "grid_svm.fit(X_train, Y_train)\n",
    "print(\"Best SVM Parameters:\", grid_svm.best_params_)\n",
    "print(\"Test Accuracy:\", accuracy_score(Y_test, grid_svm.predict(X_test)))\n",
    "\n",
    "# Logistic Regression\n",
    "grid_lr = GridSearchCV(lr, lr_params, cv=5, scoring='accuracy')\n",
    "grid_lr.fit(X_train, Y_train)\n",
    "print(\"Best LR Parameters:\", grid_lr.best_params_)\n",
    "print(\"Test Accuracy:\", accuracy_score(Y_test, grid_lr.predict(X_test)))\n",
    "\n",
    "# catboost\n",
    "cat_model.fit(X_train, Y_train)\n",
    "print(\"Test Accuracy:\", accuracy_score(Y_test, cat_model.predict(X_test)))\n"
   ]
  },
  {
   "cell_type": "markdown",
   "id": "63d87b0d-32cf-4f00-84d0-2079d890f13b",
   "metadata": {},
   "source": [
    "## SVM gives the best result\n",
    "*Accuracy on test set = 77%* - *without SMOTE*"
   ]
  },
  {
   "cell_type": "code",
   "execution_count": null,
   "id": "bd0ad3cc-dc4f-4259-b37a-2be2b41f9ee1",
   "metadata": {},
   "outputs": [],
   "source": [
    "from sklearn.metrics import classification_report, confusion_matrix, roc_auc_score, roc_curve\n",
    "import matplotlib.pyplot as plt\n",
    "import seaborn as sns\n",
    "\n",
    "# Suppose final model is grid_rf (Random Forest from GridSearchCV)\n",
    "y_pred = grid_svm.predict(X_test)\n",
    "y_prob = grid_svm.predict_proba(X_test)[:,1]\n",
    "\n",
    "# 1. Confusion Matrix\n",
    "cm = confusion_matrix(Y_test, y_pred)\n",
    "sns.heatmap(cm, annot=True, fmt='d', cmap='Blues')\n",
    "plt.title(\"Confusion Matrix\")\n",
    "plt.xlabel(\"Predicted\")\n",
    "plt.ylabel(\"Actual\")\n",
    "plt.show()\n",
    "\n",
    "# 2. Precision, Recall, F1\n",
    "print(classification_report(Y_test, y_pred))\n",
    "\n",
    "# 3. ROC Curve\n",
    "fpr, tpr, thresholds = roc_curve(Y_test, y_prob)\n",
    "plt.plot(fpr, tpr, label=\"AUC = %.2f\" % roc_auc_score(Y_test, y_prob))\n",
    "plt.plot([0,1],[0,1],'--')\n",
    "plt.xlabel(\"False Positive Rate\")\n",
    "plt.ylabel(\"True Positive Rate\")\n",
    "plt.title(\"ROC Curve\")\n",
    "plt.legend()\n",
    "plt.show()\n"
   ]
  },
  {
   "cell_type": "markdown",
   "id": "52905778-d497-4889-aa1e-061d1d3f2b8f",
   "metadata": {},
   "source": [
    "#### Observation\n",
    "\n",
    "- Majority class (0) predicted very well (recall 0.91).\n",
    "\n",
    "- Minority class (1) recall is low (0.52) → model misses almost half of diabetic patients."
   ]
  },
  {
   "cell_type": "markdown",
   "id": "251bf0d8-d95c-45ab-a3a6-2e745b236ca0",
   "metadata": {},
   "source": [
    "##### \"Now, we will implement SMOTE to balance the dataset.\""
   ]
  },
  {
   "cell_type": "code",
   "execution_count": null,
   "id": "a1ad6794-9ff2-40ed-909f-8bb234e3a611",
   "metadata": {},
   "outputs": [],
   "source": [
    "from imblearn.over_sampling import RandomOverSampler, SMOTE\n",
    "from imblearn.under_sampling import RandomUnderSampler\n",
    "\n",
    "smote = SMOTE(random_state=42)\n",
    "X_smote, Y_smote = smote.fit_resample(X_train, Y_train)"
   ]
  },
  {
   "cell_type": "code",
   "execution_count": null,
   "id": "f7acec02-f73b-439c-aafb-ac81cddd0fb5",
   "metadata": {},
   "outputs": [],
   "source": [
    "# Train on SMOTE data\n",
    "grid_lr.fit(X_smote, Y_smote)\n",
    "grid_svm.fit(X_smote, Y_smote)\n",
    "grid_rf.fit(X_smote, Y_smote)"
   ]
  },
  {
   "cell_type": "code",
   "execution_count": null,
   "id": "df2b6d08-ea26-47ad-9788-d645e0ec3c67",
   "metadata": {},
   "outputs": [],
   "source": [
    "# Predict on test set\n",
    "Y_pred_lr = grid_lr.predict(X_test)\n",
    "Y_pred_svm = grid_svm.predict(X_test)\n",
    "Y_pred_rf = grid_rf.predict(X_test)"
   ]
  },
  {
   "cell_type": "code",
   "execution_count": null,
   "id": "f08ddecf-a39a-4225-bdbd-0a6f344e1b06",
   "metadata": {},
   "outputs": [],
   "source": [
    "print(\"Test Accuracy on rf:\", accuracy_score(Y_test, Y_pred_rf))\n",
    "print(\"Test Accuracy on svm:\", accuracy_score(Y_test, Y_pred_svm))\n",
    "print(\"Test Accuracyon lr:\", accuracy_score(Y_test, Y_pred_lr))"
   ]
  },
  {
   "cell_type": "code",
   "execution_count": null,
   "id": "639824ac-3123-4520-93f9-1612e8b29619",
   "metadata": {},
   "outputs": [],
   "source": [
    "# Evaluate\n",
    "from sklearn.metrics import classification_report\n",
    "print(\"SMOTE Results\")\n",
    "print(\"LR--\",classification_report(Y_test, Y_pred_lr))\n",
    "print(\"SVM--\",classification_report(Y_test, Y_pred_svm))\n",
    "print(\"RF--\",classification_report(Y_test, Y_pred_rf))"
   ]
  },
  {
   "cell_type": "code",
   "execution_count": null,
   "id": "ff157d4d-8131-4a14-958d-a15dd8eef674",
   "metadata": {},
   "outputs": [],
   "source": [
    "#Feature Importance (Explainability)\n",
    "importances = grid_rf.best_estimator_.feature_importances_\n",
    "plt.barh(df.columns[:-1], importances)\n",
    "plt.title(\"Feature Importance (Random Forest)\")\n",
    "plt.xlabel(\"Importance Score\")\n",
    "plt.show()"
   ]
  },
  {
   "cell_type": "code",
   "execution_count": null,
   "id": "9941db34-82f4-44a7-b71c-4072e3838696",
   "metadata": {},
   "outputs": [],
   "source": [
    "def heatmap(Y_test,y_pred):\n",
    "    cm = confusion_matrix(Y_test, y_pred)\n",
    "    sns.heatmap(cm, annot=True, fmt='d', cmap='Blues')\n",
    "    plt.title(\"Confusion Matrix\")\n",
    "    plt.xlabel(\"Predicted\")\n",
    "    plt.ylabel(\"Actual\")\n",
    "    plt.show()"
   ]
  },
  {
   "cell_type": "code",
   "execution_count": null,
   "id": "30724196-5804-4afd-b68d-97f488baf1ff",
   "metadata": {},
   "outputs": [],
   "source": [
    "print(\"Logistic Regression\")\n",
    "heatmap(Y_test, Y_pred_lr)"
   ]
  },
  {
   "cell_type": "code",
   "execution_count": null,
   "id": "5f2de181-78e9-49ae-a3f0-a559f3f642c7",
   "metadata": {},
   "outputs": [],
   "source": [
    "print(\"SVM\")\n",
    "heatmap(Y_test, Y_pred_svm)"
   ]
  },
  {
   "cell_type": "code",
   "execution_count": null,
   "id": "278d9ccf-99c1-43a3-abba-83301d717ff1",
   "metadata": {},
   "outputs": [],
   "source": [
    "print(\"Random Forest\")\n",
    "heatmap(Y_test, Y_pred_rf)"
   ]
  },
  {
   "cell_type": "markdown",
   "id": "1c997581-3456-4dc1-a508-65d5baaa97f0",
   "metadata": {},
   "source": [
    "### Conclusion / Best Model\n",
    "\n",
    "- Best model: Logistic Regression after applying SMOTE.\n",
    "\n",
    "- Reason: Highest recall (0.67) for diabetic patients while maintaining good overall accuracy (0.75).\n",
    "\n",
    "- RF is close but slightly weaker for minority class.\n",
    "\n",
    "- SVM performs worst for minority class detection."
   ]
  },
  {
   "cell_type": "markdown",
   "id": "f48ff23d-0e40-4392-bc14-a563dba43e08",
   "metadata": {},
   "source": [
    "# Making a predictive model"
   ]
  },
  {
   "cell_type": "code",
   "execution_count": null,
   "id": "26472fb4-a429-4973-8c66-e624edc524af",
   "metadata": {},
   "outputs": [],
   "source": [
    "input_data = (5,166,72,19,175,25.8,0.587,51)\n",
    "\n",
    "# changing the input_data to numpy array\n",
    "input_data_as_numpy_array = np.asarray(input_data)\n",
    "\n",
    "# reshape the array as we are predicting for one instance\n",
    "input_data_reshaped = input_data_as_numpy_array.reshape(1,-1)\n",
    "\n",
    "# standardize the input data\n",
    "std_data = scaler.transform(input_data_reshaped)\n",
    "print(std_data)\n",
    "\n",
    "prediction = grid_lr.predict(std_data)\n",
    "print(prediction)\n",
    "\n",
    "if (prediction[0] == 0):\n",
    "  print('The person is not diabetic')\n",
    "else:\n",
    "  print('The person is diabetic')"
   ]
  },
  {
   "cell_type": "markdown",
   "id": "07147934-7117-4987-8adb-890969aeabbb",
   "metadata": {},
   "source": [
    "Saving the trained model"
   ]
  },
  {
   "cell_type": "code",
   "execution_count": null,
   "id": "6ff9253f-95d6-4c03-933c-9e7e7f287209",
   "metadata": {},
   "outputs": [],
   "source": [
    "import pickle\n",
    "from imblearn.pipeline import Pipeline as ImbPipeline\n",
    "from sklearn.preprocessing import StandardScaler\n",
    "from imblearn.over_sampling import SMOTE\n",
    "\n",
    "# Wrap preprocessing + model into a pipeline\n",
    "pipeline = ImbPipeline(steps=[\n",
    "    ('scaler', StandardScaler()),       # scaling step\n",
    "    ('smote', SMOTE(random_state=42)),  # oversampling (used only during training)\n",
    "    ('model', grid_lr)                    # your trained model (already fitted)\n",
    "])\n",
    "\n"
   ]
  },
  {
   "cell_type": "code",
   "execution_count": null,
   "id": "11e59cc6-4026-4c0f-b6a5-52a79062bb5c",
   "metadata": {},
   "outputs": [],
   "source": [
    "# Fit pipeline again (so that pipeline knows preprocessing + model together)\n",
    "pipeline.fit(X_train, Y_train)"
   ]
  },
  {
   "cell_type": "code",
   "execution_count": null,
   "id": "aaa400d1-64df-40af-a899-2735327c61bc",
   "metadata": {},
   "outputs": [],
   "source": [
    "# Save the pipeline\n",
    "with open(\"diabetes_pipeline.pkl\", \"wb\") as f:\n",
    "    pickle.dump(pipeline, f)\n",
    "\n",
    "print(\"✅ Pipeline saved as diabetes_pipeline.pkl\")"
   ]
  },
  {
   "cell_type": "code",
   "execution_count": null,
   "id": "d9baa930-ee5d-4dc8-94a1-3b0e7b80230c",
   "metadata": {},
   "outputs": [],
   "source": [
    "# -----------------------------\n",
    "# ✅ Load and Test Pipeline\n",
    "# -----------------------------\n",
    "with open(\"diabetes_pipeline.pkl\", \"rb\") as f:\n",
    "    loaded_pipeline = pickle.load(f)\n",
    "\n",
    "# Example input (raw values, directly without scaling)\n",
    "sample = [6,148,72,35,0,33.6,0.627,50]\n",
    "\n",
    "prediction = loaded_pipeline.predict([sample])[0]\n",
    "print(\"Prediction:\", \"Diabetes\" if prediction == 1 else \"No Diabetes\")\n"
   ]
  },
  {
   "cell_type": "code",
   "execution_count": null,
   "id": "14478475-7c8d-4c14-aff9-e251e313ad74",
   "metadata": {},
   "outputs": [],
   "source": []
  },
  {
   "cell_type": "code",
   "execution_count": null,
   "id": "3da848e9-d1bb-4964-89e9-79f10563f6e5",
   "metadata": {},
   "outputs": [],
   "source": []
  },
  {
   "cell_type": "code",
   "execution_count": null,
   "id": "a56a6b19-a82c-4141-b282-fc97a66f0b82",
   "metadata": {},
   "outputs": [],
   "source": []
  },
  {
   "cell_type": "code",
   "execution_count": null,
   "id": "9494683c-8388-438e-95eb-dcf5f3e5f3ef",
   "metadata": {},
   "outputs": [],
   "source": []
  },
  {
   "cell_type": "code",
   "execution_count": null,
   "id": "e1d90ca9-bdae-496f-b876-50457e2321aa",
   "metadata": {},
   "outputs": [],
   "source": []
  },
  {
   "cell_type": "code",
   "execution_count": null,
   "id": "885d6956-648b-4712-8955-2e64e76b3583",
   "metadata": {},
   "outputs": [],
   "source": []
  },
  {
   "cell_type": "code",
   "execution_count": null,
   "id": "44c31140-7425-4877-8c40-4800d40ab640",
   "metadata": {},
   "outputs": [],
   "source": []
  },
  {
   "cell_type": "code",
   "execution_count": null,
   "id": "455e0631-7c8e-4d81-a34f-c5285e5c0182",
   "metadata": {},
   "outputs": [],
   "source": []
  },
  {
   "cell_type": "code",
   "execution_count": null,
   "id": "74cf5e5a-ed7e-4a80-8bf1-21d595d7fbfd",
   "metadata": {},
   "outputs": [],
   "source": []
  },
  {
   "cell_type": "code",
   "execution_count": null,
   "id": "8ffaf7ea-b881-4618-ab16-ced1b1480de2",
   "metadata": {},
   "outputs": [],
   "source": []
  },
  {
   "cell_type": "code",
   "execution_count": null,
   "id": "e6cb67e7-d517-4f63-bdbf-c919e9d681e8",
   "metadata": {},
   "outputs": [],
   "source": []
  },
  {
   "cell_type": "code",
   "execution_count": null,
   "id": "12ab30e7-8848-458a-8bf6-3860c6ec6077",
   "metadata": {},
   "outputs": [],
   "source": []
  },
  {
   "cell_type": "code",
   "execution_count": null,
   "id": "0b4e15a0-c0eb-42e1-97e5-2225c078535a",
   "metadata": {},
   "outputs": [],
   "source": []
  }
 ],
 "metadata": {
  "kernelspec": {
   "display_name": "Python (tf_gpu)",
   "language": "python",
   "name": "tf_gpu"
  },
  "language_info": {
   "codemirror_mode": {
    "name": "ipython",
    "version": 3
   },
   "file_extension": ".py",
   "mimetype": "text/x-python",
   "name": "python",
   "nbconvert_exporter": "python",
   "pygments_lexer": "ipython3",
   "version": "3.9.24"
  }
 },
 "nbformat": 4,
 "nbformat_minor": 5
}
